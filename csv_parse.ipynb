{
 "cells": [
  {
   "cell_type": "code",
   "execution_count": 1,
   "metadata": {},
   "outputs": [
    {
     "data": {
      "text/plain": [
       "['yt_1.csv',\n",
       " 'yt_2.csv',\n",
       " 'yt_3.csv',\n",
       " 'yt_4.csv',\n",
       " 'yt_5.csv',\n",
       " 'yt_6.csv',\n",
       " 'yt_7.csv']"
      ]
     },
     "execution_count": 1,
     "metadata": {},
     "output_type": "execute_result"
    }
   ],
   "source": [
    "import os\n",
    "import pandas as pd\n",
    "\n",
    "csv_dir=os.path.join(os.getcwd(),'csv_files')\n",
    "csv_files=os.listdir(csv_dir)\n",
    "csv_files"
   ]
  },
  {
   "cell_type": "code",
   "execution_count": 2,
   "metadata": {},
   "outputs": [],
   "source": [
    "def csv_parse(csv_dir,csv_file):\n",
    "    try:\n",
    "        df_x=pd.read_csv(os.path.join(csv_dir,csv_file),sep='\\t',usecols=['yt_link', 'yt_title'])\n",
    "        print('This foloowing video: '+ df_x.loc[0,'yt_link'] + ' titled: '+ df_x.loc[0,'yt_title'] + ' was sliced at the following time slices to extract the Gibberish audio files:' )\n",
    "        df_0=pd.read_csv(os.path.join(csv_dir,csv_file),sep='\\t',usecols=['language', 'accent', 'time_slice'])\n",
    "        print(df_0.fillna('NA'))\n",
    "    except:\n",
    "        df_x=pd.read_csv(os.path.join(csv_dir,csv_file),sep=',',usecols=['yt_link', 'yt_title'])\n",
    "        print('This foloowing video: '+ df_x.loc[0,'yt_link'] + ' titled: '+ df_x.loc[0,'yt_title'] + ' was sliced at the following time slices to extract the Gibberish audio files:' )\n",
    "        df_0=pd.read_csv(os.path.join(csv_dir,csv_file),sep=',',usecols=['language', 'accent', 'time_slice'])\n",
    "        print(df_0.fillna('NA'))\n",
    "        \n",
    "    return df_0"
   ]
  },
  {
   "cell_type": "code",
   "execution_count": 3,
   "metadata": {},
   "outputs": [
    {
     "name": "stdout",
     "output_type": "stream",
     "text": [
      "This foloowing video: https://www.youtube.com/watch?v=vhccAx-2KJ8 titled: What Languages Sound Like To Foreigners #2 was sliced at the following time slices to extract the Gibberish audio files:\n",
      "   language      accent time_slice\n",
      "0    polish          NA      45,56\n",
      "1   russian          NA      57,61\n",
      "2  japanese          NA      62,66\n",
      "3    hebrew          NA      91,94\n",
      "4    arabic          NA      94,98\n",
      "5   english  australian     99,105\n",
      "6   english    scottish    106,110\n",
      "7  mandarin          NA    120,124\n",
      "8   turkish          NA    125,128\n",
      "9    german          NA    129,137\n",
      "This foloowing video: https://www.youtube.com/watch?v=ybcvlxivscw titled: What Languages Sound Like To Foreigners was sliced at the following time slices to extract the Gibberish audio files:\n",
      "      language accent time_slice\n",
      "0      finnish     NA       9,14\n",
      "1      swedish     NA      15,23\n",
      "2     estonian     NA      24,28\n",
      "3       french     NA      34,39\n",
      "4      italian     NA      40,44\n",
      "5   portuguese     NA      44,48\n",
      "6      english     uk      50,56\n",
      "7     japanese     NA      58,63\n",
      "8      spanish     NA      63,71\n",
      "9      english     us      72,79\n",
      "10       tamil     NA      80,85\n",
      "11      arabic     NA      85,92\n",
      "This foloowing video: https://www.youtube.com/watch?v=ofRxeChledg titled: Fake Chinese was sliced at the following time slices to extract the Gibberish audio files:\n",
      "  language accent time_slice\n",
      "0  chinese     NA      14,33\n",
      "This foloowing video: https://www.youtube.com/watch?v=Nrbqt-LMd1g titled: Fake Languages was sliced at the following time slices to extract the Gibberish audio files:\n",
      "  language       accent time_slice\n",
      "0  english           NA       1,11\n",
      "1  spanish     european      12,21\n",
      "2  spanish  argentinian      22,30\n",
      "3   french           NA      31,39\n",
      "4  swedish           NA      41,51\n",
      "5  italian           NA      52,61\n",
      "This foloowing video: https://www.youtube.com/watch?v=x7h8W6WTjKY titled: Fake Languages II was sliced at the following time slices to extract the Gibberish audio files:\n",
      "     language     accent time_slice\n",
      "0      german         NA       2,13\n",
      "1  portuguese   european      14,23\n",
      "2  portuguese  brazilian      24,31\n",
      "3   icelandic         NA      32,44\n",
      "4   bulgarian         NA      45,57\n",
      "5      danish         NA      58,70\n",
      "This foloowing video: https://www.youtube.com/watch?v=8sgLOpEDGdg titled: SPEAKING FAKE ENGLISH was sliced at the following time slices to extract the Gibberish audio files:\n",
      "  language accent time_slice\n",
      "0  english     NA      17,58\n",
      "This foloowing video: https://www.youtube.com/watch?v=1h4tAPC-MYI titled: Fake American English - ish was sliced at the following time slices to extract the Gibberish audio files:\n",
      "  language    accent time_slice\n",
      "0  english  american      50,60\n"
     ]
    }
   ],
   "source": [
    "for i in range(len(csv_files)):\n",
    "    csv_parse(csv_dir,csv_files[i])"
   ]
  }
 ],
 "metadata": {
  "kernelspec": {
   "display_name": "Python 3",
   "language": "python",
   "name": "python3"
  },
  "language_info": {
   "codemirror_mode": {
    "name": "ipython",
    "version": 3
   },
   "file_extension": ".py",
   "mimetype": "text/x-python",
   "name": "python",
   "nbconvert_exporter": "python",
   "pygments_lexer": "ipython3",
   "version": "3.6.3"
  },
  "latex_envs": {
   "LaTeX_envs_menu_present": true,
   "autoclose": false,
   "autocomplete": true,
   "bibliofile": "biblio.bib",
   "cite_by": "apalike",
   "current_citInitial": 1,
   "eqLabelWithNumbers": true,
   "eqNumInitial": 1,
   "hotkeys": {
    "equation": "Ctrl-E",
    "itemize": "Ctrl-I"
   },
   "labels_anchors": false,
   "latex_user_defs": false,
   "report_style_numbering": false,
   "user_envs_cfg": false
  },
  "nbTranslate": {
   "displayLangs": [
    "*"
   ],
   "hotkey": "alt-t",
   "langInMainMenu": true,
   "sourceLang": "en",
   "targetLang": "fr",
   "useGoogleTranslate": true
  },
  "varInspector": {
   "cols": {
    "lenName": 16,
    "lenType": 16,
    "lenVar": 40
   },
   "kernels_config": {
    "python": {
     "delete_cmd_postfix": "",
     "delete_cmd_prefix": "del ",
     "library": "var_list.py",
     "varRefreshCmd": "print(var_dic_list())"
    },
    "r": {
     "delete_cmd_postfix": ") ",
     "delete_cmd_prefix": "rm(",
     "library": "var_list.r",
     "varRefreshCmd": "cat(var_dic_list()) "
    }
   },
   "types_to_exclude": [
    "module",
    "function",
    "builtin_function_or_method",
    "instance",
    "_Feature"
   ],
   "window_display": false
  }
 },
 "nbformat": 4,
 "nbformat_minor": 2
}
